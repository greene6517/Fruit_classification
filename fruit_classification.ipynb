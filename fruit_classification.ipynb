{
 "cells": [
  {
   "cell_type": "code",
   "execution_count": 1,
   "id": "aee04974",
   "metadata": {},
   "outputs": [
    {
     "name": "stderr",
     "output_type": "stream",
     "text": [
      "c:\\users\\ccccc\\appdata\\local\\programs\\python\\python39\\lib\\site-packages\\tensorflow\\python\\keras\\engine\\sequential.py:455: UserWarning: `model.predict_classes()` is deprecated and will be removed after 2021-01-01. Please use instead:* `np.argmax(model.predict(x), axis=-1)`,   if your model does multi-class classification   (e.g. if it uses a `softmax` last-layer activation).* `(model.predict(x) > 0.5).astype(\"int32\")`,   if your model does binary classification   (e.g. if it uses a `sigmoid` last-layer activation).\n",
      "  warnings.warn('`model.predict_classes()` is deprecated and '\n"
     ]
    }
   ],
   "source": [
    "import numpy as np\n",
    "from tensorflow.keras.preprocessing.image import load_img\n",
    "from tensorflow.keras.preprocessing.image import img_to_array\n",
    "from tensorflow.keras.preprocessing.image import ImageDataGenerator\n",
    "from tensorflow.python.keras.models import load_model\n",
    "from tensorflow.keras import models\n",
    "from tkinter import *\n",
    "from PIL import ImageTk, Image\n",
    "from tkinter import filedialog\n",
    "model = load_model('model/fruit_classification_CNN.h5')\n",
    "\n",
    "fruit_index = ['apple', 'avocado', 'banana', 'grapes', 'kiwi', 'orange', 'papaya', 'pineapple', 'strawberry', 'watermelon']\n",
    "imageGenerator = ImageDataGenerator(\n",
    "    rescale=1./255,\n",
    "    rotation_range=20,\n",
    "    width_shift_range=0.1,\n",
    "    height_shift_range=0.1,\n",
    "    brightness_range=[.2, .2], \n",
    "    horizontal_flip=True,\n",
    "    validation_split=.1\n",
    ")\n",
    "root = Tk()\n",
    "root.title(\"과일 분류 프로그램\")\n",
    "root.geometry(\"384x420+600+300\")\n",
    "root.resizable(False, False)\n",
    "root.configure(bg=\"white\")\n",
    "root.filename = filedialog.askopenfilename(initialdir='./png',title='파일선택',\n",
    "                                    filetypes=(('all files','*.*'),('png files','*.png'),('jpg files','*.jpg')))\n",
    "img_load = Image.open(root.filename)\n",
    "image_label = ImageTk.PhotoImage(img_load.resize((384,384)))\n",
    "Label(image=image_label).place(x=0, y=0)\n",
    "\n",
    "image = load_img(root.filename, target_size=((112,112)))\n",
    "image = img_to_array(image)\n",
    "image = np.expand_dims(image, axis=0)\n",
    "testGen = imageGenerator.flow(image)\n",
    "img = testGen\n",
    "arr = img[0][0]\n",
    "result = model.predict_classes(arr.reshape(1, 112, 112, 3))\n",
    "\n",
    "label_result = Label(root, text='이 과일은 {} 입니다!'.format(fruit_index[result[0]]))\n",
    "label_result.pack(side=\"bottom\")\n",
    "label_result.configure(bg=\"white\")\n",
    "root.mainloop()"
   ]
  },
  {
   "cell_type": "code",
   "execution_count": null,
   "id": "887a0eba",
   "metadata": {},
   "outputs": [],
   "source": []
  }
 ],
 "metadata": {
  "kernelspec": {
   "display_name": "Python 3 (ipykernel)",
   "language": "python",
   "name": "python3"
  },
  "language_info": {
   "codemirror_mode": {
    "name": "ipython",
    "version": 3
   },
   "file_extension": ".py",
   "mimetype": "text/x-python",
   "name": "python",
   "nbconvert_exporter": "python",
   "pygments_lexer": "ipython3",
   "version": "3.9.6"
  }
 },
 "nbformat": 4,
 "nbformat_minor": 5
}
